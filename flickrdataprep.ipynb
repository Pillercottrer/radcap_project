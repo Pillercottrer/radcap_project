{
 "cells": [
  {
   "cell_type": "code",
   "execution_count": 1,
   "metadata": {},
   "outputs": [
    {
     "name": "stdout",
     "output_type": "stream",
     "text": [
      "['CrowdFlowerAnnotations.txt', 'ExpertAnnotations.txt', 'Flickr8k.lemma.token.txt', '__MACOSX/', '__MACOSX/._Flickr8k.lemma.token.txt', 'Flickr8k.token.txt', 'Flickr_8k.devImages.txt', 'Flickr_8k.testImages.txt', 'Flickr_8k.trainImages.txt', 'readme.txt']\n"
     ]
    }
   ],
   "source": [
    "import os\n",
    "import json\n",
    "import zipfile\n",
    "\n",
    "files = os.listdir('./data/Flicker8k_Dataset')\n",
    "zf = zipfile.ZipFile('./data/Flickr8k_text.zip', 'r')\n",
    "print(zf.namelist())"
   ]
  },
  {
   "cell_type": "code",
   "execution_count": 2,
   "metadata": {},
   "outputs": [
    {
     "name": "stdout",
     "output_type": "stream",
     "text": [
      "b'1000268201_693b08cb0e.jpg#1\\tA girl going into a wooden building .'\n",
      "b'1000268201_693b08cb0e.jpg#2\\tA little girl climbing into a wooden playhouse .'\n",
      "b'1000268201_693b08cb0e.jpg#3\\tA little girl climbing the stairs to her playhouse .'\n",
      "b'1000268201_693b08cb0e.jpg#4\\tA little girl in a pink dress going into a wooden cabin .'\n",
      "b'1001773457_577c3a7d70.jpg#0\\tA black dog and a spotted dog are fighting'\n",
      "b'1001773457_577c3a7d70.jpg#1\\tA black dog and a tri-colored dog playing with each other on the road .'\n",
      "b'1001773457_577c3a7d70.jpg#2\\tA black dog and a white dog with brown spots are staring at each other in the street .'\n",
      "b'1001773457_577c3a7d70.jpg#3\\tTwo dogs of different breeds looking at each other on the road .'\n",
      "b'1001773457_577c3a7d70.jpg#4\\tTwo dogs on pavement moving toward each other .'\n"
     ]
    }
   ],
   "source": [
    "try:\n",
    "    data_train = zf.read('Flickr_8k.trainImages.txt')\n",
    "    data_test = zf.read('Flickr_8k.testImages.txt')\n",
    "    data_token = zf.read('Flickr8k.token.txt')\n",
    "except KeyError:\n",
    "        print('ERROR: Did not find %s in zip file' % filename)\n",
    "\n",
    "data_token_split = data_token.splitlines()\n",
    "\n",
    "for row in data_token_split[1:10]:\n",
    "    print(row)"
   ]
  },
  {
   "cell_type": "code",
   "execution_count": 3,
   "metadata": {},
   "outputs": [
    {
     "name": "stdout",
     "output_type": "stream",
     "text": [
      "{'captions': ['A man in an orange hat starring at something .', 'A man wears an orange hat and glasses .', 'A man with gauges and glasses is wearing a Blitz hat .', 'A man with glasses is wearing a beer can crocheted hat .', 'The man with pierced ears is wearing glasses and an orange hat .'], 'id': '1007129816_e794419615', 'filepath': './data/Flicker8k_Dataset/1007129816_e794419615.jpg'}\n",
      "{'captions': ['A bunch of kids run on a school play field .', 'A group of children in a field .', 'A group of children running in the grass .', 'Kids play soccer on a field .', 'Kids running in the field .'], 'id': '1685990174_09c4fb7df8', 'filepath': './data/Flicker8k_Dataset/1685990174_09c4fb7df8.jpg'}\n",
      "{'captions': [\"A boy on a bicycle rides with his little brother in a child 's seat , which is tipping .\", 'A boy rides down the street with a younger boy behind him on the same bike .', 'Two boys with backpacks ride bikes through a puddle on the road .', 'Two people riding a bike are riding towards a stop sign .', 'two young children riding on a bike down a dirt road through a puddle .'], 'id': '3072114570_e1c0127529', 'filepath': './data/Flicker8k_Dataset/3072114570_e1c0127529.jpg'}\n"
     ]
    }
   ],
   "source": [
    "import re\n",
    "import matplotlib.pyplot as plt\n",
    "import matplotlib.image as mpimg\n",
    "\n",
    "i = 0\n",
    "entry = []\n",
    "out = []\n",
    "out_train = []\n",
    "out_test = []\n",
    "\n",
    "fp_start = './data/Flicker8k_Dataset/'\n",
    "\n",
    "for row in data_token.splitlines():\n",
    "    if ((i+1) % 5 == 0):\n",
    "        entry.append(re.search(br\"(?<=\\t)[\\w\\W]+\",row).group(0).decode('ASCII'))\n",
    "        \n",
    "        jimg = {}\n",
    "        jimg['captions'] = entry\n",
    "        jimg['id'] = re.search(br\"[\\w._]+(?=.jpg)\",row).group(0).decode('ASCII')\n",
    "        jimg['filepath'] = fp_start + re.search(br\"[\\w._]+(?=#[0-4])\",row).group(0).decode('ASCII')\n",
    "        \n",
    "        if re.search(br\"[\\w._]+(?=#[0-4])\",row).group(0) in data_test.splitlines():\n",
    "            out_test.append(jimg)\n",
    "        elif re.search(br\"[\\w._]+(?=#[0-4])\",row).group(0) in data_train.splitlines():\n",
    "            out_train.append(jimg)\n",
    "        out.append(jimg)\n",
    "        entry = []\n",
    "    else:\n",
    "        entry.append(re.search(br\"(?<=\\t)[\\w\\W]+\",row).group(0).decode('ASCII'))\n",
    "    i+=1\n",
    "print(out[4])\n",
    "print(out_train[500])\n",
    "print(out_test[500])\n",
    "\n",
    "\n",
    "img=mpimg.imread(out[4]['filepath'])\n",
    "imgplot = plt.imshow(img)"
   ]
  },
  {
   "cell_type": "code",
   "execution_count": 4,
   "metadata": {},
   "outputs": [],
   "source": [
    "with open(\"data_file_captions.json\", \"w\") as write_file:\n",
    "    json.dump(out, write_file)\n",
    "\n",
    "json.dump(out, open(\"all_imgcap.json\", \"w\"))    \n",
    "json.dump(out_test, open(\"test_imgcap.json\", \"w\"))\n",
    "json.dump(out_train, open(\"train_imgcap.json\", \"w\"))"
   ]
  },
  {
   "cell_type": "code",
   "execution_count": null,
   "metadata": {},
   "outputs": [],
   "source": []
  }
 ],
 "metadata": {
  "kernelspec": {
   "display_name": "Python [conda env:pytorch_env]",
   "language": "python",
   "name": "conda-env-pytorch_env-py"
  },
  "language_info": {
   "codemirror_mode": {
    "name": "ipython",
    "version": 3
   },
   "file_extension": ".py",
   "mimetype": "text/x-python",
   "name": "python",
   "nbconvert_exporter": "python",
   "pygments_lexer": "ipython3",
   "version": "3.7.0"
  }
 },
 "nbformat": 4,
 "nbformat_minor": 2
}
